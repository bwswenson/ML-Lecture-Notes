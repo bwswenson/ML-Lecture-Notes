{
 "cells": [
  {
   "cell_type": "code",
   "execution_count": 1,
   "id": "0f8998f8",
   "metadata": {},
   "outputs": [],
   "source": [
    "import numpy as np\n",
    "import torch\n",
    "import matplotlib.pyplot as plt\n",
    "from scipy.stats import multivariate_normal"
   ]
  },
  {
   "cell_type": "markdown",
   "id": "cd071d6e",
   "metadata": {},
   "source": [
    "We begin by generating some data. We use only 3 data points. \n",
    "\n",
    "Data is generated using a linear model\n",
    "$$\n",
    "y = \\textbf{w}^T x + \\epsilon\n",
    "$$\n",
    "where $\\epsilon \\sim N(0, \\sigma_n)$. We augment each data point by appending a 1 and let w_2 represent the offset. "
   ]
  },
  {
   "cell_type": "code",
   "execution_count": 2,
   "id": "4eca72d1",
   "metadata": {},
   "outputs": [],
   "source": [
    "# Data parameters\n",
    "sigma_n = 1\n",
    "n_basis_funcs = 100\n",
    "mus = [12*i/n_basis_funcs - 4 for i in range(n_basis_funcs)]\n",
    "ell= .2  #characteristic length scale for kernel\n",
    "#p = len(mus)  # number of basis functions\n",
    "N = 300  # num data points\n",
    "x = np.random.rand(N)*8-2 #np.array([-5, 1.5, 5, 1, 4.5, 4.6, 4.7, 4.8, 4.9, 4.95])  \n",
    "# hand pick some points, because we're only using 32\n",
    "n = len(x)  # num data points\n",
    "D = len(mus)+1  # dimension (including offset)\n",
    "w = np.zeros(D)\n",
    "# w[1] = 1.5  # parameter we're trying to estimate\n",
    "\n",
    "# compute y\n",
    "X = [np.ones_like(x)]\n",
    "for mu in mus:\n",
    "    f = lambda x: np.exp(-(x-mu)**2/ell)\n",
    "    X.append(f(x))\n",
    "X = np.array(X)\n",
    "# X = np.vstack([f(x) for f in basis_funcs])\n",
    "# w = np.array(w).reshape(D, 1)\n",
    "# y = w.T @ X + np.random.normal(size=(n,))*sigma_n\n",
    "# y = y.T\n",
    "func = lambda x: 1 + np.sin(2*x - np.pi/4-.5) + 2*np.exp(-(x)**2/.2)\n",
    "y = func(x) + .2*np.random.normal(size=N)\n",
    "y = y.reshape(-1, 1)"
   ]
  },
  {
   "cell_type": "markdown",
   "id": "51bbc816",
   "metadata": {},
   "source": [
    "We choose a prior and plot it below. "
   ]
  },
  {
   "cell_type": "code",
   "execution_count": 3,
   "id": "a64f7eb5",
   "metadata": {},
   "outputs": [],
   "source": [
    "# prior parameters \n",
    "mu_p = np.zeros(D)\n",
    "Sigma_p = np.eye(D)\n",
    "prior = multivariate_normal(mu_p, Sigma_p).pdf\n",
    "\n",
    "# # Generate contour plot\n",
    "if D==2:\n",
    "    xv = np.linspace(-2, 2, 50)\n",
    "    yv = np.linspace(-2, 2, 50)\n",
    "\n",
    "    Xv, Yv = np.meshgrid(xv, yv)\n",
    "    W = torch.tensor([Xv.tolist(), Yv.tolist()]).reshape(2, -1).T.tolist()\n",
    "    Z = []\n",
    "\n",
    "    for w in W:\n",
    "        Z.append(prior(w))\n",
    "\n",
    "    Z = np.array(Z).reshape(50, 50)\n",
    "\n",
    "    plt.contour(Xv, Yv, Z, colors='black');"
   ]
  },
  {
   "cell_type": "markdown",
   "id": "dd8c8434",
   "metadata": {},
   "source": [
    "Now, we construct the likelihood."
   ]
  },
  {
   "cell_type": "code",
   "execution_count": 4,
   "id": "ab7eb68a",
   "metadata": {},
   "outputs": [],
   "source": [
    "def likelihood(W): \n",
    "    out = []\n",
    "    for w in W.T:\n",
    "        w.tolist()\n",
    "        res = (2*np.pi*sigma_n**2)**(D/2)*np.exp(-1/(2*sigma_n**2)*np.linalg.norm(y - X.T @ np.array(w).reshape(D,1)))\n",
    "        out.append(res.tolist())\n",
    "    return np.array(out).reshape(50, 50)\n",
    "\n",
    "# Generate contour plot\n",
    "if D == 2:\n",
    "    W = torch.tensor([Xv.tolist(), Yv.tolist()])\n",
    "    Z = likelihood(W.view(D,-1).numpy())\n",
    "\n",
    "    plt.contour(Xv, Yv, Z.T, colors='black');"
   ]
  },
  {
   "cell_type": "code",
   "execution_count": 5,
   "id": "e72af42f",
   "metadata": {},
   "outputs": [
    {
     "name": "stdout",
     "output_type": "stream",
     "text": [
      "[[ 7.56999556e-01]\n",
      " [ 1.92399279e-10]\n",
      " [ 2.04206861e-09]\n",
      " [ 1.87538351e-08]\n",
      " [ 1.49017585e-07]\n",
      " [ 1.02446902e-06]\n",
      " [ 6.09369618e-06]\n",
      " [ 3.13634624e-05]\n",
      " [ 1.39707948e-04]\n",
      " [ 5.38816494e-04]\n",
      " [ 1.80035076e-03]\n",
      " [ 5.21650603e-03]\n",
      " [ 1.31244288e-02]\n",
      " [ 2.87212144e-02]\n",
      " [ 5.47832450e-02]\n",
      " [ 9.12958339e-02]\n",
      " [ 1.33305581e-01]\n",
      " [ 1.71279318e-01]\n",
      " [ 1.95379502e-01]\n",
      " [ 2.01943964e-01]\n",
      " [ 1.96986505e-01]\n",
      " [ 1.91699528e-01]\n",
      " [ 1.91551073e-01]\n",
      " [ 1.89121460e-01]\n",
      " [ 1.69870227e-01]\n",
      " [ 1.26132605e-01]\n",
      " [ 6.37416703e-02]\n",
      " [-5.26811012e-03]\n",
      " [-7.14401449e-02]\n",
      " [-1.23985713e-01]\n",
      " [-1.40100295e-01]\n",
      " [-8.84245907e-02]\n",
      " [ 4.46839755e-02]\n",
      " [ 2.25828962e-01]\n",
      " [ 3.75415345e-01]\n",
      " [ 4.11510667e-01]\n",
      " [ 3.08942364e-01]\n",
      " [ 1.23858093e-01]\n",
      " [-4.14251149e-02]\n",
      " [-1.06346319e-01]\n",
      " [-5.81646862e-02]\n",
      " [ 5.48270670e-02]\n",
      " [ 1.66659845e-01]\n",
      " [ 2.33835551e-01]\n",
      " [ 2.48114529e-01]\n",
      " [ 2.26920236e-01]\n",
      " [ 1.97538757e-01]\n",
      " [ 1.82420955e-01]\n",
      " [ 1.86294917e-01]\n",
      " [ 1.91940814e-01]\n",
      " [ 1.73565911e-01]\n",
      " [ 1.21011306e-01]\n",
      " [ 5.17137528e-02]\n",
      " [-4.06176872e-03]\n",
      " [-3.12262548e-02]\n",
      " [-4.23480287e-02]\n",
      " [-6.17586149e-02]\n",
      " [-9.87127715e-02]\n",
      " [-1.38440540e-01]\n",
      " [-1.59160582e-01]\n",
      " [-1.53851446e-01]\n",
      " [-1.32836253e-01]\n",
      " [-1.08828987e-01]\n",
      " [-8.51678437e-02]\n",
      " [-5.78867555e-02]\n",
      " [-2.29066927e-02]\n",
      " [ 2.12599700e-02]\n",
      " [ 7.31402548e-02]\n",
      " [ 1.26242198e-01]\n",
      " [ 1.69259777e-01]\n",
      " [ 1.92955279e-01]\n",
      " [ 1.98697015e-01]\n",
      " [ 1.98740503e-01]\n",
      " [ 2.05399978e-01]\n",
      " [ 2.17797746e-01]\n",
      " [ 2.19414590e-01]\n",
      " [ 1.91312670e-01]\n",
      " [ 1.30403858e-01]\n",
      " [ 5.53042041e-02]\n",
      " [-6.76325129e-03]\n",
      " [-4.05442743e-02]\n",
      " [-5.25415031e-02]\n",
      " [-6.19268111e-02]\n",
      " [-8.16490149e-02]\n",
      " [-1.07403688e-01]\n",
      " [-1.23721164e-01]\n",
      " [-1.19235457e-01]\n",
      " [-9.56896171e-02]\n",
      " [-6.43542558e-02]\n",
      " [-3.65504463e-02]\n",
      " [-1.76489376e-02]\n",
      " [-7.28402363e-03]\n",
      " [-2.58013266e-03]\n",
      " [-7.86854162e-04]\n",
      " [-2.07086281e-04]\n",
      " [-4.71158165e-05]\n",
      " [-9.27855064e-06]\n",
      " [-1.58293527e-06]\n",
      " [-2.34075902e-07]\n",
      " [-3.00125071e-08]\n",
      " [-3.33708783e-09]]\n"
     ]
    }
   ],
   "source": [
    "# compute mean and covariance for posterior \n",
    "A = sigma_n**-2 * X@X.T + np.linalg.inv(Sigma_p)\n",
    "A_inv = np.linalg.inv(A)\n",
    "mu = sigma_n**-2 * A_inv @ X @ y\n",
    "cov = A_inv\n",
    "\n",
    "print(mu)\n",
    "\n",
    "# define posterior\n",
    "posterior = multivariate_normal(mu.squeeze(), cov).pdf\n",
    "\n",
    "# plot contours\n",
    "if D == 2:\n",
    "    Z = []\n",
    "    W = torch.tensor([Xv.tolist(), Yv.tolist()]).view(2,-1)\n",
    "    # print(W.T.tolist())\n",
    "    # posterior([-5.0, 5.0])\n",
    "    for w in W.T.tolist():\n",
    "        Z.append(posterior(w))\n",
    "    Z = np.array(Z).reshape(50,50)\n",
    "    plt.contour(Xv, Yv, Z.T, colors='black');"
   ]
  },
  {
   "cell_type": "markdown",
   "id": "1bbc5d85",
   "metadata": {},
   "source": [
    "Plot posterior predictive distribution. The mean is plotted along with one standard deviation from the mean. \n",
    "\n",
    "Something interesting to note in this plot is that a \"standard deviation\" in the posterior predictive distribution isn't meant to approximate one standard deviation of the slice of data at x. So what exactly is the standard deviation and the posterior predictive distribution measuring? \n",
    "\n",
    "All we've tried to do here is estimate the true w. Nowhere in this framework did we try to estimate the noise variance. As we collect more data, the posterior concentrates on a single point. The posterior predictive distribution is just showing a region where the \"true\" mean line should be running. \n",
    "\n",
    "Note that this is also seen in GPs. TODO: How does one compensate for this in GPs? And how is that reflected here?"
   ]
  },
  {
   "cell_type": "code",
   "execution_count": 7,
   "id": "bc45147a",
   "metadata": {},
   "outputs": [
    {
     "data": {
      "text/plain": [
       "<matplotlib.collections.PathCollection at 0x168c3e1d0>"
      ]
     },
     "execution_count": 7,
     "metadata": {},
     "output_type": "execute_result"
    },
    {
     "data": {
      "image/png": "[encoded data removed]",
      "text/plain": [
       "<Figure size 640x480 with 1 Axes>"
      ]
     },
     "metadata": {},
     "output_type": "display_data"
    }
   ],
   "source": [
    "xv = np.linspace(-4, 10, 100)\n",
    "x_aug = [np.ones_like(xv)]\n",
    "for mu in mus:\n",
    "    f = lambda x: np.exp(-(x-mu)**2/ell)\n",
    "    x_aug.append(f(xv))\n",
    "x_aug = np.array(x_aug)\n",
    "y_mean = 1/sigma_n**2 * x_aug.T @ A_inv @ X @ y\n",
    "sigma_pred = np.diag(x_aug.T @ A_inv @ x_aug).reshape(-1,1) + sigma_n\n",
    "plt.plot(xv, y_mean, xv, y_mean + sigma_pred, xv, y_mean - sigma_pred)\n",
    "plt.plot(xv, func(xv))\n",
    "plt.scatter(x, y)\n",
    "# plt.plot(xv, np.exp(-(xv)**2/ell))"
   ]
  },
  {
   "cell_type": "markdown",
   "id": "ee643d86",
   "metadata": {},
   "source": []
  }
 ],
 "metadata": {
  "kernelspec": {
   "display_name": "Python 3 (ipykernel)",
   "language": "python",
   "name": "python3"
  },
  "language_info": {
   "codemirror_mode": {
    "name": "ipython",
    "version": 3
   },
   "file_extension": ".py",
   "mimetype": "text/x-python",
   "name": "python",
   "nbconvert_exporter": "python",
   "pygments_lexer": "ipython3",
   "version": "3.11.5"
  }
 },
 "nbformat": 4,
 "nbformat_minor": 5
}
